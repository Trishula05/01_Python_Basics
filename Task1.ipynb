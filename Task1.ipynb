{
 "cells": [
  {
   "cell_type": "markdown",
   "id": "ac055a6e-e8f0-43d1-b9ba-8caac24672bb",
   "metadata": {},
   "source": [
    "## Week 1: Assignment "
   ]
  },
  {
   "cell_type": "markdown",
   "id": "74f0c1cc-1542-45d1-9ff3-d4241e81dfd3",
   "metadata": {},
   "source": [
    "### Task1"
   ]
  },
  {
   "cell_type": "code",
   "execution_count": 6,
   "id": "23717eb2-db29-4ab1-872d-eaf1504af412",
   "metadata": {},
   "outputs": [],
   "source": [
    "a=4\n",
    "b=2"
   ]
  },
  {
   "cell_type": "code",
   "execution_count": 7,
   "id": "5d099a86-a10a-4abf-834f-c00112e098c8",
   "metadata": {},
   "outputs": [
    {
     "name": "stdout",
     "output_type": "stream",
     "text": [
      "The addition of the number is 6 The subtraction of the number is 2 The mulptiplication of the number is 8 The division of the number is 2.0\n"
     ]
    }
   ],
   "source": [
    "print(\"The addition of the number is\",a+b,\"The subtraction of the number is\",a-b,\"The mulptiplication of the number is\",a*b,\"The division of the number is\",a/b)"
   ]
  },
  {
   "cell_type": "code",
   "execution_count": 8,
   "id": "15c4e7f4-a294-451e-b3a6-b85730925986",
   "metadata": {},
   "outputs": [
    {
     "name": "stdout",
     "output_type": "stream",
     "text": [
      "The addition of the number is 6 \n",
      "The subtraction of the number is 2 \n",
      "The mulptiplication of the number is 8 \n",
      "The division of the number is 2.0\n"
     ]
    }
   ],
   "source": [
    "print(\"The addition of the number is\",a+b,\"\\nThe subtraction of the number is\",a-b,\"\\nThe mulptiplication of the number is\",a*b,\"\\nThe division of the number is\",a/b)"
   ]
  },
  {
   "cell_type": "code",
   "execution_count": 18,
   "id": "43ea1206-abc4-4233-9242-b1dc4a12c687",
   "metadata": {},
   "outputs": [
    {
     "name": "stdout",
     "output_type": "stream",
     "text": [
      "The addition of the number is 6 and The subtraction of the number is 2 and The mulptiplication of the number is 8 and The division of the number is 2.0\n"
     ]
    }
   ],
   "source": [
    "print(f\"The addition of the number is {a+b} and The subtraction of the number is {a-b} and The mulptiplication of the number is {a*b} and The division of the number is {a/b}\")"
   ]
  },
  {
   "cell_type": "code",
   "execution_count": 19,
   "id": "83d35f4f-0b9c-4087-b1c0-0fc012699721",
   "metadata": {},
   "outputs": [
    {
     "name": "stdout",
     "output_type": "stream",
     "text": [
      "The addition of the number is 6 and \n",
      "The subtraction of the number is 2 and \n",
      "The mulptiplication of the number is 8 and \n",
      "The division of the number is 2.0\n"
     ]
    }
   ],
   "source": [
    "print(f\"The addition of the number is {a+b} and \\nThe subtraction of the number is {a-b} and \\nThe mulptiplication of the number is {a*b} and \\nThe division of the number is {a/b}\")"
   ]
  },
  {
   "cell_type": "markdown",
   "id": "143ece09-4260-4335-b7ab-0a8016867a70",
   "metadata": {},
   "source": [
    "### Task 2"
   ]
  },
  {
   "cell_type": "code",
   "execution_count": 3,
   "id": "558f74ef-dcaa-49e4-8667-124329aea803",
   "metadata": {},
   "outputs": [],
   "source": [
    "driver_name=\"Raju\"\n",
    "pick_up_point=\"Perungalathur\"\n",
    "drop_point=\"Chromepet\"\n",
    "distance=\"10Km\"\n",
    "timing=11.45\n",
    "fair=160\n",
    "vehicle_type=\"Car\"\n",
    "status=True"
   ]
  },
  {
   "cell_type": "code",
   "execution_count": 4,
   "id": "fcb191de-04e2-45f2-97dd-8dcc5428e34d",
   "metadata": {},
   "outputs": [
    {
     "name": "stdout",
     "output_type": "stream",
     "text": [
      "The drive name is Raju The pick up point is Perungalathur The drop point is Chromepet The distance to be travelled is 10Km Pick up time is 11.45 The fair value is 160 The type of vehicle which i am going to travel is Car Status True\n"
     ]
    }
   ],
   "source": [
    "print(\"The drive name is\",driver_name,\"The pick up point is\",pick_up_point,\"The drop point is\",drop_point,\"The distance to be travelled is\",distance,\"Pick up time is\",timing,\"The fair value is\",fair,\"The type of vehicle which i am going to travel is\",vehicle_type,\"Status\",status)"
   ]
  },
  {
   "cell_type": "code",
   "execution_count": 5,
   "id": "ea958d28-311b-4a8f-8cb0-4e7c87d095ec",
   "metadata": {},
   "outputs": [
    {
     "name": "stdout",
     "output_type": "stream",
     "text": [
      "The drive name is Raju \n",
      "The pick up point is Perungalathur \n",
      "The drop point is Chromepet \n",
      "The distance to be travelled is 10Km \n",
      "Pick up time is 11.45 \n",
      "The fair value is 160 \n",
      "The type of vehicle which i am going to travel is Car \n",
      "Status True\n"
     ]
    }
   ],
   "source": [
    "print(\"The drive name is\",driver_name,\"\\nThe pick up point is\",pick_up_point,\"\\nThe drop point is\",drop_point,\"\\nThe distance to be travelled is\",distance,\"\\nPick up time is\",timing,\"\\nThe fair value is\",fair,\"\\nThe type of vehicle which i am going to travel is\",vehicle_type,\"\\nStatus\",status)"
   ]
  },
  {
   "cell_type": "code",
   "execution_count": 6,
   "id": "3c0b0a7d-7329-4f0a-b71f-580cc99d5098",
   "metadata": {},
   "outputs": [
    {
     "name": "stdout",
     "output_type": "stream",
     "text": [
      "The drive name is Raju and The pick up point is Perungalathur and The drop point is Chromepet and The distance to be travelled is 10Km and Pick up time is 11.45 and The fair value is 160 and The type of vehicle i am going to travel is Car and Status True\n"
     ]
    }
   ],
   "source": [
    "print(f\"The drive name is {driver_name} and The pick up point is {pick_up_point} and The drop point is {drop_point} and The distance to be travelled is {distance} and Pick up time is {timing} and The fair value is {fair} and The type of vehicle i am going to travel is {vehicle_type} and Status {status}\")"
   ]
  },
  {
   "cell_type": "code",
   "execution_count": 7,
   "id": "b5186fd0-44ff-4ed2-8864-2bd605688d7d",
   "metadata": {},
   "outputs": [
    {
     "name": "stdout",
     "output_type": "stream",
     "text": [
      "The drive name is Raju and \n",
      "The pick up point is Perungalathur and \n",
      "The drop point is Chromepet and \n",
      "The distance to be travelled is 10Km and \n",
      "Pick up time is 11.45 and \n",
      "The fair value is 160 and \n",
      "The type of vehicle i am going to travel is Car and \n",
      "Status True\n"
     ]
    }
   ],
   "source": [
    "print(f\"The drive name is {driver_name} and \\nThe pick up point is {pick_up_point} and \\nThe drop point is {drop_point} and \\nThe distance to be travelled is {distance} and \\nPick up time is {timing} and \\nThe fair value is {fair} and \\nThe type of vehicle i am going to travel is {vehicle_type} and \\nStatus {status}\")"
   ]
  },
  {
   "cell_type": "code",
   "execution_count": null,
   "id": "5148ada4-5628-434f-89eb-a611d103b5da",
   "metadata": {},
   "outputs": [],
   "source": []
  },
  {
   "cell_type": "code",
   "execution_count": null,
   "id": "eb666d26-9a3d-40b5-be11-3bc9bc1088f7",
   "metadata": {},
   "outputs": [],
   "source": []
  }
 ],
 "metadata": {
  "kernelspec": {
   "display_name": "Python [conda env:base] *",
   "language": "python",
   "name": "conda-base-py"
  },
  "language_info": {
   "codemirror_mode": {
    "name": "ipython",
    "version": 3
   },
   "file_extension": ".py",
   "mimetype": "text/x-python",
   "name": "python",
   "nbconvert_exporter": "python",
   "pygments_lexer": "ipython3",
   "version": "3.13.5"
  }
 },
 "nbformat": 4,
 "nbformat_minor": 5
}
